{
 "cells": [
  {
   "cell_type": "markdown",
   "metadata": {},
   "source": [
    "# Exploratory Data Analysis"
   ]
  },
  {
   "cell_type": "markdown",
   "metadata": {},
   "source": [
    "## Data First Look"
   ]
  },
  {
   "cell_type": "markdown",
   "metadata": {},
   "source": [
    "    A quick overview on the data!\n",
    "Let's see the columns and the data types of each dataframe."
   ]
  },
  {
   "cell_type": "code",
   "execution_count": 1,
   "metadata": {},
   "outputs": [],
   "source": [
    "import pandas as pd"
   ]
  },
  {
   "cell_type": "code",
   "execution_count": 2,
   "metadata": {},
   "outputs": [
    {
     "name": "stderr",
     "output_type": "stream",
     "text": [
      "/home/diego/libs/anaconda3/envs/devDeploy/lib/python3.8/site-packages/IPython/core/interactiveshell.py:3062: DtypeWarning: Columns (2) have mixed types.Specify dtype option on import or set low_memory=False.\n",
      "  has_raised = await self.run_ast_nodes(code_ast.body, cell_name,\n"
     ]
    }
   ],
   "source": [
    "issues = pd.read_csv(\"data/base/issues.csv\")\n",
    "products = pd.read_csv(\"data/base/products.csv\")\n",
    "clientsComplaints = pd.read_csv(\"data/base/complaints_users.csv\")\n",
    "companiesComplaints = pd.read_csv(\"data/base/complaints_companies.csv\")"
   ]
  },
  {
   "cell_type": "code",
   "execution_count": 3,
   "metadata": {},
   "outputs": [
    {
     "data": {
      "text/plain": [
       "Index(['ISSUE_ID', 'MAIN_ISSUE', 'SUB_ISSUE'], dtype='object')"
      ]
     },
     "execution_count": 3,
     "metadata": {},
     "output_type": "execute_result"
    }
   ],
   "source": [
    "issues.columns"
   ]
  },
  {
   "cell_type": "code",
   "execution_count": 4,
   "metadata": {},
   "outputs": [
    {
     "data": {
      "text/plain": [
       "ISSUE_ID       int64\n",
       "MAIN_ISSUE    object\n",
       "SUB_ISSUE     object\n",
       "dtype: object"
      ]
     },
     "execution_count": 4,
     "metadata": {},
     "output_type": "execute_result"
    }
   ],
   "source": [
    "issues.dtypes"
   ]
  },
  {
   "cell_type": "code",
   "execution_count": 5,
   "metadata": {},
   "outputs": [
    {
     "data": {
      "text/html": [
       "<div>\n",
       "<style scoped>\n",
       "    .dataframe tbody tr th:only-of-type {\n",
       "        vertical-align: middle;\n",
       "    }\n",
       "\n",
       "    .dataframe tbody tr th {\n",
       "        vertical-align: top;\n",
       "    }\n",
       "\n",
       "    .dataframe thead th {\n",
       "        text-align: right;\n",
       "    }\n",
       "</style>\n",
       "<table border=\"1\" class=\"dataframe\">\n",
       "  <thead>\n",
       "    <tr style=\"text-align: right;\">\n",
       "      <th></th>\n",
       "      <th>ISSUE_ID</th>\n",
       "      <th>MAIN_ISSUE</th>\n",
       "      <th>SUB_ISSUE</th>\n",
       "    </tr>\n",
       "  </thead>\n",
       "  <tbody>\n",
       "    <tr>\n",
       "      <th>0</th>\n",
       "      <td>253</td>\n",
       "      <td>Problem with a credit reporting company's inve...</td>\n",
       "      <td>Their investigation did not fix an error on yo...</td>\n",
       "    </tr>\n",
       "    <tr>\n",
       "      <th>1</th>\n",
       "      <td>165</td>\n",
       "      <td>Incorrect information on your report</td>\n",
       "      <td>Account status incorrect</td>\n",
       "    </tr>\n",
       "    <tr>\n",
       "      <th>2</th>\n",
       "      <td>18</td>\n",
       "      <td>Attempts to collect debt not owed</td>\n",
       "      <td>Debt was paid</td>\n",
       "    </tr>\n",
       "    <tr>\n",
       "      <th>3</th>\n",
       "      <td>349</td>\n",
       "      <td>Written notification about debt</td>\n",
       "      <td>Didn't receive enough information to verify debt</td>\n",
       "    </tr>\n",
       "    <tr>\n",
       "      <th>4</th>\n",
       "      <td>300</td>\n",
       "      <td>Struggling to repay your loan</td>\n",
       "      <td>Can't get other flexible options for repaying ...</td>\n",
       "    </tr>\n",
       "    <tr>\n",
       "      <th>...</th>\n",
       "      <td>...</td>\n",
       "      <td>...</td>\n",
       "      <td>...</td>\n",
       "    </tr>\n",
       "    <tr>\n",
       "      <th>348</th>\n",
       "      <td>175</td>\n",
       "      <td>Lender damaged or destroyed property</td>\n",
       "      <td>NaN</td>\n",
       "    </tr>\n",
       "    <tr>\n",
       "      <th>349</th>\n",
       "      <td>226</td>\n",
       "      <td>Overdraft, savings or rewards features</td>\n",
       "      <td>NaN</td>\n",
       "    </tr>\n",
       "    <tr>\n",
       "      <th>350</th>\n",
       "      <td>196</td>\n",
       "      <td>Managing the line of credit</td>\n",
       "      <td>NaN</td>\n",
       "    </tr>\n",
       "    <tr>\n",
       "      <th>351</th>\n",
       "      <td>289</td>\n",
       "      <td>Shopping for a line of credit</td>\n",
       "      <td>NaN</td>\n",
       "    </tr>\n",
       "    <tr>\n",
       "      <th>352</th>\n",
       "      <td>178</td>\n",
       "      <td>Lender sold the property</td>\n",
       "      <td>NaN</td>\n",
       "    </tr>\n",
       "  </tbody>\n",
       "</table>\n",
       "<p>353 rows × 3 columns</p>\n",
       "</div>"
      ],
      "text/plain": [
       "     ISSUE_ID                                         MAIN_ISSUE  \\\n",
       "0         253  Problem with a credit reporting company's inve...   \n",
       "1         165               Incorrect information on your report   \n",
       "2          18                  Attempts to collect debt not owed   \n",
       "3         349                    Written notification about debt   \n",
       "4         300                      Struggling to repay your loan   \n",
       "..        ...                                                ...   \n",
       "348       175               Lender damaged or destroyed property   \n",
       "349       226             Overdraft, savings or rewards features   \n",
       "350       196                        Managing the line of credit   \n",
       "351       289                      Shopping for a line of credit   \n",
       "352       178                           Lender sold the property   \n",
       "\n",
       "                                             SUB_ISSUE  \n",
       "0    Their investigation did not fix an error on yo...  \n",
       "1                             Account status incorrect  \n",
       "2                                        Debt was paid  \n",
       "3     Didn't receive enough information to verify debt  \n",
       "4    Can't get other flexible options for repaying ...  \n",
       "..                                                 ...  \n",
       "348                                                NaN  \n",
       "349                                                NaN  \n",
       "350                                                NaN  \n",
       "351                                                NaN  \n",
       "352                                                NaN  \n",
       "\n",
       "[353 rows x 3 columns]"
      ]
     },
     "execution_count": 5,
     "metadata": {},
     "output_type": "execute_result"
    }
   ],
   "source": [
    "issues"
   ]
  },
  {
   "cell_type": "code",
   "execution_count": 6,
   "metadata": {},
   "outputs": [
    {
     "data": {
      "text/plain": [
       "Index(['PRODUCT_ID', 'MAIN_PRODUCT', 'SUB_PRODUCT'], dtype='object')"
      ]
     },
     "execution_count": 6,
     "metadata": {},
     "output_type": "execute_result"
    }
   ],
   "source": [
    "products.columns"
   ]
  },
  {
   "cell_type": "code",
   "execution_count": 7,
   "metadata": {},
   "outputs": [
    {
     "data": {
      "text/plain": [
       "PRODUCT_ID       int64\n",
       "MAIN_PRODUCT    object\n",
       "SUB_PRODUCT     object\n",
       "dtype: object"
      ]
     },
     "execution_count": 7,
     "metadata": {},
     "output_type": "execute_result"
    }
   ],
   "source": [
    "products.dtypes"
   ]
  },
  {
   "cell_type": "code",
   "execution_count": 8,
   "metadata": {},
   "outputs": [
    {
     "data": {
      "text/html": [
       "<div>\n",
       "<style scoped>\n",
       "    .dataframe tbody tr th:only-of-type {\n",
       "        vertical-align: middle;\n",
       "    }\n",
       "\n",
       "    .dataframe tbody tr th {\n",
       "        vertical-align: top;\n",
       "    }\n",
       "\n",
       "    .dataframe thead th {\n",
       "        text-align: right;\n",
       "    }\n",
       "</style>\n",
       "<table border=\"1\" class=\"dataframe\">\n",
       "  <thead>\n",
       "    <tr style=\"text-align: right;\">\n",
       "      <th></th>\n",
       "      <th>PRODUCT_ID</th>\n",
       "      <th>MAIN_PRODUCT</th>\n",
       "      <th>SUB_PRODUCT</th>\n",
       "    </tr>\n",
       "  </thead>\n",
       "  <tbody>\n",
       "    <tr>\n",
       "      <th>0</th>\n",
       "      <td>26</td>\n",
       "      <td>Credit reporting, credit repair services, or o...</td>\n",
       "      <td>Credit reporting</td>\n",
       "    </tr>\n",
       "    <tr>\n",
       "      <th>1</th>\n",
       "      <td>37</td>\n",
       "      <td>Debt collection</td>\n",
       "      <td>Medical debt</td>\n",
       "    </tr>\n",
       "    <tr>\n",
       "      <th>2</th>\n",
       "      <td>39</td>\n",
       "      <td>Debt collection</td>\n",
       "      <td>Mortgage debt</td>\n",
       "    </tr>\n",
       "    <tr>\n",
       "      <th>3</th>\n",
       "      <td>90</td>\n",
       "      <td>Student loan</td>\n",
       "      <td>Federal student loan servicing</td>\n",
       "    </tr>\n",
       "    <tr>\n",
       "      <th>4</th>\n",
       "      <td>42</td>\n",
       "      <td>Debt collection</td>\n",
       "      <td>Other debt</td>\n",
       "    </tr>\n",
       "    <tr>\n",
       "      <th>...</th>\n",
       "      <td>...</td>\n",
       "      <td>...</td>\n",
       "      <td>...</td>\n",
       "    </tr>\n",
       "    <tr>\n",
       "      <th>93</th>\n",
       "      <td>72</td>\n",
       "      <td>Other financial service</td>\n",
       "      <td>Money order</td>\n",
       "    </tr>\n",
       "    <tr>\n",
       "      <th>94</th>\n",
       "      <td>11</td>\n",
       "      <td>Consumer Loan</td>\n",
       "      <td>Pawn loan</td>\n",
       "    </tr>\n",
       "    <tr>\n",
       "      <th>95</th>\n",
       "      <td>81</td>\n",
       "      <td>Prepaid card</td>\n",
       "      <td>Electronic Benefit Transfer / EBT card</td>\n",
       "    </tr>\n",
       "    <tr>\n",
       "      <th>96</th>\n",
       "      <td>73</td>\n",
       "      <td>Other financial service</td>\n",
       "      <td>Refund anticipation check</td>\n",
       "    </tr>\n",
       "    <tr>\n",
       "      <th>97</th>\n",
       "      <td>97</td>\n",
       "      <td>Virtual currency</td>\n",
       "      <td>International money transfer</td>\n",
       "    </tr>\n",
       "  </tbody>\n",
       "</table>\n",
       "<p>98 rows × 3 columns</p>\n",
       "</div>"
      ],
      "text/plain": [
       "    PRODUCT_ID                                       MAIN_PRODUCT  \\\n",
       "0           26  Credit reporting, credit repair services, or o...   \n",
       "1           37                                    Debt collection   \n",
       "2           39                                    Debt collection   \n",
       "3           90                                       Student loan   \n",
       "4           42                                    Debt collection   \n",
       "..         ...                                                ...   \n",
       "93          72                            Other financial service   \n",
       "94          11                                      Consumer Loan   \n",
       "95          81                                       Prepaid card   \n",
       "96          73                            Other financial service   \n",
       "97          97                                   Virtual currency   \n",
       "\n",
       "                               SUB_PRODUCT  \n",
       "0                         Credit reporting  \n",
       "1                             Medical debt  \n",
       "2                            Mortgage debt  \n",
       "3           Federal student loan servicing  \n",
       "4                               Other debt  \n",
       "..                                     ...  \n",
       "93                             Money order  \n",
       "94                               Pawn loan  \n",
       "95  Electronic Benefit Transfer / EBT card  \n",
       "96               Refund anticipation check  \n",
       "97            International money transfer  \n",
       "\n",
       "[98 rows x 3 columns]"
      ]
     },
     "execution_count": 8,
     "metadata": {},
     "output_type": "execute_result"
    }
   ],
   "source": [
    "products"
   ]
  },
  {
   "cell_type": "code",
   "execution_count": 9,
   "metadata": {},
   "outputs": [
    {
     "data": {
      "text/plain": [
       "Index(['COMPLAINT_ID', 'COMPLAINT_TEXT', 'WAS_USER_DISPUTED', 'DATE',\n",
       "       'PRODUCT_ID', 'ISSUE_ID'],\n",
       "      dtype='object')"
      ]
     },
     "execution_count": 9,
     "metadata": {},
     "output_type": "execute_result"
    }
   ],
   "source": [
    "clientsComplaints.columns"
   ]
  },
  {
   "cell_type": "code",
   "execution_count": 10,
   "metadata": {},
   "outputs": [
    {
     "data": {
      "text/plain": [
       "COMPLAINT_ID          int64\n",
       "COMPLAINT_TEXT       object\n",
       "WAS_USER_DISPUTED    object\n",
       "DATE                 object\n",
       "PRODUCT_ID            int64\n",
       "ISSUE_ID              int64\n",
       "dtype: object"
      ]
     },
     "execution_count": 10,
     "metadata": {},
     "output_type": "execute_result"
    }
   ],
   "source": [
    "clientsComplaints.dtypes"
   ]
  },
  {
   "cell_type": "code",
   "execution_count": 11,
   "metadata": {},
   "outputs": [
    {
     "data": {
      "text/html": [
       "<div>\n",
       "<style scoped>\n",
       "    .dataframe tbody tr th:only-of-type {\n",
       "        vertical-align: middle;\n",
       "    }\n",
       "\n",
       "    .dataframe tbody tr th {\n",
       "        vertical-align: top;\n",
       "    }\n",
       "\n",
       "    .dataframe thead th {\n",
       "        text-align: right;\n",
       "    }\n",
       "</style>\n",
       "<table border=\"1\" class=\"dataframe\">\n",
       "  <thead>\n",
       "    <tr style=\"text-align: right;\">\n",
       "      <th></th>\n",
       "      <th>COMPLAINT_ID</th>\n",
       "      <th>COMPLAINT_TEXT</th>\n",
       "      <th>WAS_USER_DISPUTED</th>\n",
       "      <th>DATE</th>\n",
       "      <th>PRODUCT_ID</th>\n",
       "      <th>ISSUE_ID</th>\n",
       "    </tr>\n",
       "  </thead>\n",
       "  <tbody>\n",
       "    <tr>\n",
       "      <th>0</th>\n",
       "      <td>3184195</td>\n",
       "      <td>XXXX  and Transunion are reporting incorrectly...</td>\n",
       "      <td>NaN</td>\n",
       "      <td>03/19/2019</td>\n",
       "      <td>26</td>\n",
       "      <td>253</td>\n",
       "    </tr>\n",
       "    <tr>\n",
       "      <th>1</th>\n",
       "      <td>3184692</td>\n",
       "      <td>XXXX and Transunion are reporting incorrectly ...</td>\n",
       "      <td>NaN</td>\n",
       "      <td>03/19/2019</td>\n",
       "      <td>26</td>\n",
       "      <td>253</td>\n",
       "    </tr>\n",
       "    <tr>\n",
       "      <th>2</th>\n",
       "      <td>3183613</td>\n",
       "      <td>XXXX, XXXX, and Experian need to remove the co...</td>\n",
       "      <td>NaN</td>\n",
       "      <td>03/18/2019</td>\n",
       "      <td>26</td>\n",
       "      <td>165</td>\n",
       "    </tr>\n",
       "    <tr>\n",
       "      <th>3</th>\n",
       "      <td>3182430</td>\n",
       "      <td>3 company with inconsistencies, violations and...</td>\n",
       "      <td>NaN</td>\n",
       "      <td>03/17/2019</td>\n",
       "      <td>26</td>\n",
       "      <td>253</td>\n",
       "    </tr>\n",
       "    <tr>\n",
       "      <th>4</th>\n",
       "      <td>3182218</td>\n",
       "      <td>I have a personal loan from Patriot finance. T...</td>\n",
       "      <td>NaN</td>\n",
       "      <td>03/17/2019</td>\n",
       "      <td>26</td>\n",
       "      <td>165</td>\n",
       "    </tr>\n",
       "    <tr>\n",
       "      <th>...</th>\n",
       "      <td>...</td>\n",
       "      <td>...</td>\n",
       "      <td>...</td>\n",
       "      <td>...</td>\n",
       "      <td>...</td>\n",
       "      <td>...</td>\n",
       "    </tr>\n",
       "    <tr>\n",
       "      <th>383061</th>\n",
       "      <td>1291683</td>\n",
       "      <td>This item is past the Fair Credit Reporting Ac...</td>\n",
       "      <td>Yes</td>\n",
       "      <td>03/19/2015</td>\n",
       "      <td>28</td>\n",
       "      <td>157</td>\n",
       "    </tr>\n",
       "    <tr>\n",
       "      <th>383062</th>\n",
       "      <td>1291675</td>\n",
       "      <td>I requested my credit score and paid a special...</td>\n",
       "      <td>No</td>\n",
       "      <td>03/19/2015</td>\n",
       "      <td>28</td>\n",
       "      <td>66</td>\n",
       "    </tr>\n",
       "    <tr>\n",
       "      <th>383063</th>\n",
       "      <td>1290847</td>\n",
       "      <td>there is a XXXX XXXX account on my credit repo...</td>\n",
       "      <td>No</td>\n",
       "      <td>03/19/2015</td>\n",
       "      <td>28</td>\n",
       "      <td>159</td>\n",
       "    </tr>\n",
       "    <tr>\n",
       "      <th>383064</th>\n",
       "      <td>1291728</td>\n",
       "      <td>I had originally attended XXXX XXXX located in...</td>\n",
       "      <td>No</td>\n",
       "      <td>03/19/2015</td>\n",
       "      <td>91</td>\n",
       "      <td>28</td>\n",
       "    </tr>\n",
       "    <tr>\n",
       "      <th>383065</th>\n",
       "      <td>1291009</td>\n",
       "      <td>I have attempted to get this inaccurate judgme...</td>\n",
       "      <td>Yes</td>\n",
       "      <td>03/19/2015</td>\n",
       "      <td>28</td>\n",
       "      <td>161</td>\n",
       "    </tr>\n",
       "  </tbody>\n",
       "</table>\n",
       "<p>383066 rows × 6 columns</p>\n",
       "</div>"
      ],
      "text/plain": [
       "        COMPLAINT_ID                                     COMPLAINT_TEXT  \\\n",
       "0            3184195  XXXX  and Transunion are reporting incorrectly...   \n",
       "1            3184692  XXXX and Transunion are reporting incorrectly ...   \n",
       "2            3183613  XXXX, XXXX, and Experian need to remove the co...   \n",
       "3            3182430  3 company with inconsistencies, violations and...   \n",
       "4            3182218  I have a personal loan from Patriot finance. T...   \n",
       "...              ...                                                ...   \n",
       "383061       1291683  This item is past the Fair Credit Reporting Ac...   \n",
       "383062       1291675  I requested my credit score and paid a special...   \n",
       "383063       1290847  there is a XXXX XXXX account on my credit repo...   \n",
       "383064       1291728  I had originally attended XXXX XXXX located in...   \n",
       "383065       1291009  I have attempted to get this inaccurate judgme...   \n",
       "\n",
       "       WAS_USER_DISPUTED        DATE  PRODUCT_ID  ISSUE_ID  \n",
       "0                    NaN  03/19/2019          26       253  \n",
       "1                    NaN  03/19/2019          26       253  \n",
       "2                    NaN  03/18/2019          26       165  \n",
       "3                    NaN  03/17/2019          26       253  \n",
       "4                    NaN  03/17/2019          26       165  \n",
       "...                  ...         ...         ...       ...  \n",
       "383061               Yes  03/19/2015          28       157  \n",
       "383062                No  03/19/2015          28        66  \n",
       "383063                No  03/19/2015          28       159  \n",
       "383064                No  03/19/2015          91        28  \n",
       "383065               Yes  03/19/2015          28       161  \n",
       "\n",
       "[383066 rows x 6 columns]"
      ]
     },
     "execution_count": 11,
     "metadata": {},
     "output_type": "execute_result"
    }
   ],
   "source": [
    "clientsComplaints"
   ]
  },
  {
   "cell_type": "code",
   "execution_count": 12,
   "metadata": {},
   "outputs": [
    {
     "data": {
      "text/plain": [
       "Index(['COMPLAINT_ID', 'COMPANY', 'COMPANY_RESPONSE_TO_USER',\n",
       "       'COMPANY_RESPONSE_TO_PUBLIC', 'WAS_RESPONSE_TIMELY', 'DATE'],\n",
       "      dtype='object')"
      ]
     },
     "execution_count": 12,
     "metadata": {},
     "output_type": "execute_result"
    }
   ],
   "source": [
    "companiesComplaints.columns"
   ]
  },
  {
   "cell_type": "code",
   "execution_count": 13,
   "metadata": {},
   "outputs": [
    {
     "data": {
      "text/plain": [
       "COMPLAINT_ID                   int64\n",
       "COMPANY                       object\n",
       "COMPANY_RESPONSE_TO_USER      object\n",
       "COMPANY_RESPONSE_TO_PUBLIC    object\n",
       "WAS_RESPONSE_TIMELY           object\n",
       "DATE                          object\n",
       "dtype: object"
      ]
     },
     "execution_count": 13,
     "metadata": {},
     "output_type": "execute_result"
    }
   ],
   "source": [
    "companiesComplaints.dtypes"
   ]
  },
  {
   "cell_type": "code",
   "execution_count": 14,
   "metadata": {},
   "outputs": [
    {
     "data": {
      "text/html": [
       "<div>\n",
       "<style scoped>\n",
       "    .dataframe tbody tr th:only-of-type {\n",
       "        vertical-align: middle;\n",
       "    }\n",
       "\n",
       "    .dataframe tbody tr th {\n",
       "        vertical-align: top;\n",
       "    }\n",
       "\n",
       "    .dataframe thead th {\n",
       "        text-align: right;\n",
       "    }\n",
       "</style>\n",
       "<table border=\"1\" class=\"dataframe\">\n",
       "  <thead>\n",
       "    <tr style=\"text-align: right;\">\n",
       "      <th></th>\n",
       "      <th>COMPLAINT_ID</th>\n",
       "      <th>COMPANY</th>\n",
       "      <th>COMPANY_RESPONSE_TO_USER</th>\n",
       "      <th>COMPANY_RESPONSE_TO_PUBLIC</th>\n",
       "      <th>WAS_RESPONSE_TIMELY</th>\n",
       "      <th>DATE</th>\n",
       "    </tr>\n",
       "  </thead>\n",
       "  <tbody>\n",
       "    <tr>\n",
       "      <th>0</th>\n",
       "      <td>3184195</td>\n",
       "      <td>TRANSUNION INTERMEDIATE HOLDINGS, INC.</td>\n",
       "      <td>Closed with explanation</td>\n",
       "      <td>Company has responded to the consumer and the ...</td>\n",
       "      <td>Yes</td>\n",
       "      <td>03/19/2019</td>\n",
       "    </tr>\n",
       "    <tr>\n",
       "      <th>1</th>\n",
       "      <td>3184692</td>\n",
       "      <td>TRANSUNION INTERMEDIATE HOLDINGS, INC.</td>\n",
       "      <td>Closed with explanation</td>\n",
       "      <td>Company has responded to the consumer and the ...</td>\n",
       "      <td>Yes</td>\n",
       "      <td>03/19/2019</td>\n",
       "    </tr>\n",
       "    <tr>\n",
       "      <th>2</th>\n",
       "      <td>3183613</td>\n",
       "      <td>Experian Information Solutions Inc.</td>\n",
       "      <td>Closed with non-monetary relief</td>\n",
       "      <td>Company has responded to the consumer and the ...</td>\n",
       "      <td>Yes</td>\n",
       "      <td>03/18/2019</td>\n",
       "    </tr>\n",
       "    <tr>\n",
       "      <th>3</th>\n",
       "      <td>3182430</td>\n",
       "      <td>McCarthy, Burgess &amp; Wolff, Inc.</td>\n",
       "      <td>Closed with explanation</td>\n",
       "      <td>Company believes it acted appropriately as aut...</td>\n",
       "      <td>Yes</td>\n",
       "      <td>03/17/2019</td>\n",
       "    </tr>\n",
       "    <tr>\n",
       "      <th>4</th>\n",
       "      <td>3182218</td>\n",
       "      <td>Patriot Finance, LLC</td>\n",
       "      <td>Closed with explanation</td>\n",
       "      <td>Company believes it acted appropriately as aut...</td>\n",
       "      <td>Yes</td>\n",
       "      <td>03/17/2019</td>\n",
       "    </tr>\n",
       "    <tr>\n",
       "      <th>...</th>\n",
       "      <td>...</td>\n",
       "      <td>...</td>\n",
       "      <td>...</td>\n",
       "      <td>...</td>\n",
       "      <td>...</td>\n",
       "      <td>...</td>\n",
       "    </tr>\n",
       "    <tr>\n",
       "      <th>383061</th>\n",
       "      <td>1291683</td>\n",
       "      <td>TRANSUNION INTERMEDIATE HOLDINGS, INC.</td>\n",
       "      <td>Closed with explanation</td>\n",
       "      <td>NaN</td>\n",
       "      <td>Yes</td>\n",
       "      <td>03/19/2015</td>\n",
       "    </tr>\n",
       "    <tr>\n",
       "      <th>383062</th>\n",
       "      <td>1291675</td>\n",
       "      <td>Experian Information Solutions Inc.</td>\n",
       "      <td>Closed with monetary relief</td>\n",
       "      <td>Company chooses not to provide a public response</td>\n",
       "      <td>Yes</td>\n",
       "      <td>03/19/2015</td>\n",
       "    </tr>\n",
       "    <tr>\n",
       "      <th>383063</th>\n",
       "      <td>1290847</td>\n",
       "      <td>TRANSUNION INTERMEDIATE HOLDINGS, INC.</td>\n",
       "      <td>Closed with non-monetary relief</td>\n",
       "      <td>NaN</td>\n",
       "      <td>Yes</td>\n",
       "      <td>03/25/2015</td>\n",
       "    </tr>\n",
       "    <tr>\n",
       "      <th>383064</th>\n",
       "      <td>1291728</td>\n",
       "      <td>Genesis Lending</td>\n",
       "      <td>Closed with explanation</td>\n",
       "      <td>NaN</td>\n",
       "      <td>Yes</td>\n",
       "      <td>03/19/2015</td>\n",
       "    </tr>\n",
       "    <tr>\n",
       "      <th>383065</th>\n",
       "      <td>1291009</td>\n",
       "      <td>EQUIFAX, INC.</td>\n",
       "      <td>Closed with explanation</td>\n",
       "      <td>NaN</td>\n",
       "      <td>Yes</td>\n",
       "      <td>03/19/2015</td>\n",
       "    </tr>\n",
       "  </tbody>\n",
       "</table>\n",
       "<p>383066 rows × 6 columns</p>\n",
       "</div>"
      ],
      "text/plain": [
       "        COMPLAINT_ID                                 COMPANY  \\\n",
       "0            3184195  TRANSUNION INTERMEDIATE HOLDINGS, INC.   \n",
       "1            3184692  TRANSUNION INTERMEDIATE HOLDINGS, INC.   \n",
       "2            3183613     Experian Information Solutions Inc.   \n",
       "3            3182430         McCarthy, Burgess & Wolff, Inc.   \n",
       "4            3182218                    Patriot Finance, LLC   \n",
       "...              ...                                     ...   \n",
       "383061       1291683  TRANSUNION INTERMEDIATE HOLDINGS, INC.   \n",
       "383062       1291675     Experian Information Solutions Inc.   \n",
       "383063       1290847  TRANSUNION INTERMEDIATE HOLDINGS, INC.   \n",
       "383064       1291728                         Genesis Lending   \n",
       "383065       1291009                           EQUIFAX, INC.   \n",
       "\n",
       "               COMPANY_RESPONSE_TO_USER  \\\n",
       "0               Closed with explanation   \n",
       "1               Closed with explanation   \n",
       "2       Closed with non-monetary relief   \n",
       "3               Closed with explanation   \n",
       "4               Closed with explanation   \n",
       "...                                 ...   \n",
       "383061          Closed with explanation   \n",
       "383062      Closed with monetary relief   \n",
       "383063  Closed with non-monetary relief   \n",
       "383064          Closed with explanation   \n",
       "383065          Closed with explanation   \n",
       "\n",
       "                               COMPANY_RESPONSE_TO_PUBLIC WAS_RESPONSE_TIMELY  \\\n",
       "0       Company has responded to the consumer and the ...                 Yes   \n",
       "1       Company has responded to the consumer and the ...                 Yes   \n",
       "2       Company has responded to the consumer and the ...                 Yes   \n",
       "3       Company believes it acted appropriately as aut...                 Yes   \n",
       "4       Company believes it acted appropriately as aut...                 Yes   \n",
       "...                                                   ...                 ...   \n",
       "383061                                                NaN                 Yes   \n",
       "383062   Company chooses not to provide a public response                 Yes   \n",
       "383063                                                NaN                 Yes   \n",
       "383064                                                NaN                 Yes   \n",
       "383065                                                NaN                 Yes   \n",
       "\n",
       "              DATE  \n",
       "0       03/19/2019  \n",
       "1       03/19/2019  \n",
       "2       03/18/2019  \n",
       "3       03/17/2019  \n",
       "4       03/17/2019  \n",
       "...            ...  \n",
       "383061  03/19/2015  \n",
       "383062  03/19/2015  \n",
       "383063  03/25/2015  \n",
       "383064  03/19/2015  \n",
       "383065  03/19/2015  \n",
       "\n",
       "[383066 rows x 6 columns]"
      ]
     },
     "execution_count": 14,
     "metadata": {},
     "output_type": "execute_result"
    }
   ],
   "source": [
    "companiesComplaints"
   ]
  },
  {
   "cell_type": "code",
   "execution_count": null,
   "metadata": {},
   "outputs": [],
   "source": []
  },
  {
   "cell_type": "code",
   "execution_count": null,
   "metadata": {},
   "outputs": [],
   "source": []
  }
 ],
 "metadata": {
  "kernelspec": {
   "display_name": "devDeploy",
   "language": "python",
   "name": "devdeploy"
  },
  "language_info": {
   "codemirror_mode": {
    "name": "ipython",
    "version": 3
   },
   "file_extension": ".py",
   "mimetype": "text/x-python",
   "name": "python",
   "nbconvert_exporter": "python",
   "pygments_lexer": "ipython3",
   "version": "3.8.2"
  }
 },
 "nbformat": 4,
 "nbformat_minor": 4
}
